{
 "cells": [
  {
   "cell_type": "code",
   "execution_count": 1,
   "metadata": {},
   "outputs": [],
   "source": [
    "import datetime\n",
    "import json\n",
    "import os\n",
    "\n",
    "import pandas as pd"
   ]
  },
  {
   "cell_type": "code",
   "execution_count": 2,
   "metadata": {},
   "outputs": [
    {
     "name": "stdout",
     "output_type": "stream",
     "text": [
      "Raw data dir: /media/michal/Dane/data-science/side-projects/crypto-forecasting/notebooks/../data/raw/\n",
      "Number of all files: 23\n",
      "Target dir: /media/michal/Dane/data-science/side-projects/crypto-forecasting/notebooks/../data/processed/\n"
     ]
    }
   ],
   "source": [
    "with open('./config.json', 'r') as config_file:\n",
    "    config = json.load(config_file)\n",
    "    \n",
    "current_dir = os.getcwd()\n",
    "raw_data_dir = config['raw_data_path']\n",
    "full_raw_data_dir = os.path.join(current_dir, '../', raw_data_dir)\n",
    "print(f'Raw data dir: {full_raw_data_dir}')\n",
    "\n",
    "all_files = [file for file in os.listdir(full_raw_data_dir) if file != '.gitkeep']\n",
    "print(f'Number of all files: {len(all_files)}')\n",
    "\n",
    "processed_data_dir = config['processed_data_path']\n",
    "target_dir = os.path.join(current_dir, '../', processed_data_dir)\n",
    "print(f'Target dir: {target_dir}')"
   ]
  },
  {
   "cell_type": "code",
   "execution_count": 118,
   "metadata": {},
   "outputs": [],
   "source": [
    "def preproc_df(file_path: str, config: dict):\n",
    "    df = pd.read_csv(file_path)\n",
    "    df.set_index(config['date_column'], inplace=True)\n",
    "    df.index = pd.to_datetime(df.index)\n",
    "    df.sort_index(inplace=True)\n",
    "    df.drop(columns=config['columns_to_drop'], inplace=True)\n",
    "    return df\n",
    "\n",
    "\n",
    "def check_minimum_data_length_condition(df: pd.DataFrame, config: dict):\n",
    "    minimum_data_length = datetime.timedelta(days=365*config['minimum_data_length_in_years'])\n",
    "    return (df.index[-1] - df.index[0]) > minimum_data_length"
   ]
  },
  {
   "cell_type": "code",
   "execution_count": 119,
   "metadata": {},
   "outputs": [
    {
     "name": "stdout",
     "output_type": "stream",
     "text": [
      "File Aave.csv not saved\n",
      "File BinanceCoin.csv not saved\n",
      "File Bitcoin.csv saved in: /media/michal/Dane/data-science/side-projects/crypto-forecasting/notebooks/../data/processed/Bitcoin.csv\n",
      "File Cardano.csv not saved\n",
      "File ChainLink.csv not saved\n",
      "File Cosmos.csv not saved\n",
      "File CryptocomCoin.csv not saved\n",
      "File Dogecoin.csv saved in: /media/michal/Dane/data-science/side-projects/crypto-forecasting/notebooks/../data/processed/Dogecoin.csv\n",
      "File EOS.csv not saved\n",
      "File Ethereum.csv saved in: /media/michal/Dane/data-science/side-projects/crypto-forecasting/notebooks/../data/processed/Ethereum.csv\n",
      "File Iota.csv not saved\n",
      "File Litecoin.csv saved in: /media/michal/Dane/data-science/side-projects/crypto-forecasting/notebooks/../data/processed/Litecoin.csv\n",
      "File Monero.csv saved in: /media/michal/Dane/data-science/side-projects/crypto-forecasting/notebooks/../data/processed/Monero.csv\n",
      "File NEM.csv saved in: /media/michal/Dane/data-science/side-projects/crypto-forecasting/notebooks/../data/processed/NEM.csv\n",
      "File Polkadot.csv not saved\n",
      "File Solana.csv not saved\n",
      "File Stellar.csv saved in: /media/michal/Dane/data-science/side-projects/crypto-forecasting/notebooks/../data/processed/Stellar.csv\n",
      "File Tether.csv saved in: /media/michal/Dane/data-science/side-projects/crypto-forecasting/notebooks/../data/processed/Tether.csv\n",
      "File Tron.csv not saved\n",
      "File Uniswap.csv not saved\n",
      "File USDCoin.csv not saved\n",
      "File WrappedBitcoin.csv not saved\n",
      "File XRP.csv saved in: /media/michal/Dane/data-science/side-projects/crypto-forecasting/notebooks/../data/processed/XRP.csv\n"
     ]
    }
   ],
   "source": [
    "for file in all_files:\n",
    "    file_path = full_raw_data_dir + file\n",
    "    file_name = file.split('_')[-1]\n",
    "    \n",
    "    df = preproc_df(file_path, config)\n",
    "    whether_to_save = check_minimum_data_length_condition(df, config)\n",
    "\n",
    "\n",
    "    if whether_to_save:\n",
    "        file_path = os.path.join(target_dir, file_name)\n",
    "        df.to_csv(file_path)\n",
    "        print(f'File {file_name} saved in: {file_path}')\n",
    "    else:\n",
    "        print(f'File {file_name} not saved')"
   ]
  }
 ],
 "metadata": {
  "kernelspec": {
   "display_name": "venv",
   "language": "python",
   "name": "python3"
  },
  "language_info": {
   "codemirror_mode": {
    "name": "ipython",
    "version": 3
   },
   "file_extension": ".py",
   "mimetype": "text/x-python",
   "name": "python",
   "nbconvert_exporter": "python",
   "pygments_lexer": "ipython3",
   "version": "3.12.3"
  }
 },
 "nbformat": 4,
 "nbformat_minor": 2
}
